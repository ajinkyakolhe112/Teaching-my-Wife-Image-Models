{
 "cells": [
  {
   "cell_type": "markdown",
   "id": "b2e91197",
   "metadata": {},
   "source": [
    "## Landscape of Language Models\n",
    "\n",
    "Top Privated Owned, For-profit Models (No-one can beat these)\n",
    "1. ChatGPT\n",
    "2. Gemini 2.5 pro\n",
    "3. Claude\n",
    "\n",
    "Top Open Source Models (Keeps catching upto closed source)\n",
    "1. Gemma\n",
    "2. Phi\n",
    "3. Llama"
   ]
  },
  {
   "cell_type": "markdown",
   "id": "9b10472d",
   "metadata": {},
   "source": [
    "## Landscape of Image Models\n",
    "\n",
    "Top Privated Owned, For-profit Models\n",
    "1. Midjourney\n",
    "2. ImageGen 4\n",
    "3. \n",
    "\n",
    "Top Open Source Models\n",
    "1. Flux\n",
    "2. Stable Diffusion"
   ]
  },
  {
   "cell_type": "markdown",
   "id": "688db074",
   "metadata": {},
   "source": [
    "## Blended Landscape\n",
    "\n",
    "1. `transformers` -> library to use Language Models\n",
    "2. `diffusers` -> library to use Image Generation Models"
   ]
  },
  {
   "cell_type": "markdown",
   "id": "e6d4485d",
   "metadata": {},
   "source": [
    "$$\n",
    "Quality_of_NN = Function ( Dataset Size, Model Size, Number of GPUs )\n",
    "Quality_of_NN = Function ( Dataset quality and size optimization, Model Design optimization, Programming Optimization, Intelligence Optimizations)\n",
    "$$"
   ]
  }
 ],
 "metadata": {
  "language_info": {
   "name": "python"
  }
 },
 "nbformat": 4,
 "nbformat_minor": 5
}
